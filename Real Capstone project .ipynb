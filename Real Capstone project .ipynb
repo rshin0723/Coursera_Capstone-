{
 "cells": [
  {
   "cell_type": "markdown",
   "metadata": {},
   "source": [
    "# Introduction\n",
    "In this captone project, I will analyze districts in the city of Los Angeles: I will group similar districts in terms of their venue distribution. By doing so, a future entreprenuer should be able to tell most favorable locations in launching his or her business. For example, when a businessman desires to open up a cafe, it would be more beneficial if he does so in the urban cities than rural areas. \n",
    "\n",
    "Problem: An entreprenuer is trying to launch a business in LA––but, he or she does not know where to open since each district has differentiated venues. \n",
    "# Data\n",
    "To contrive the data analysis, I would 1)extract data showing coordinates based on different zipcodes of LA from \"opendatasoft.com\" 2)based on the coordinates, retrieve the necessary data––district, its name, latitude, longitude, and zipcode–– using FourSquare API 3)retrieve the district's neiborghood information(e.g. the number of restaurants and parks) 4) lastly, conduct K-Means clustering using venue frequency as input data. In essence, the purpose of the analysis is to analyze different distributions of venues in districts of LA and suggest some ideas where to open up a new business. \n"
   ]
  },
  {
   "cell_type": "code",
   "execution_count": 1,
   "metadata": {},
   "outputs": [],
   "source": [
    "import pandas as pd\n",
    "import numpy as np\n",
    "from geopy.geocoders import Nominatim \n",
    "import folium"
   ]
  },
  {
   "cell_type": "code",
   "execution_count": null,
   "metadata": {},
   "outputs": [],
   "source": []
  }
 ],
 "metadata": {
  "kernelspec": {
   "display_name": "Python 3",
   "language": "python",
   "name": "python3"
  },
  "language_info": {
   "codemirror_mode": {
    "name": "ipython",
    "version": 3
   },
   "file_extension": ".py",
   "mimetype": "text/x-python",
   "name": "python",
   "nbconvert_exporter": "python",
   "pygments_lexer": "ipython3",
   "version": "3.7.6"
  }
 },
 "nbformat": 4,
 "nbformat_minor": 4
}
